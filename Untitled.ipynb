{
 "cells": [
  {
   "cell_type": "code",
   "execution_count": 2,
   "metadata": {},
   "outputs": [
    {
     "ename": "ModuleNotFoundError",
     "evalue": "No module named 'pandas'",
     "output_type": "error",
     "traceback": [
      "\u001b[0;31m---------------------------------------------------------------------------\u001b[0m",
      "\u001b[0;31mModuleNotFoundError\u001b[0m                       Traceback (most recent call last)",
      "\u001b[0;32m<ipython-input-2-9167a3746a6c>\u001b[0m in \u001b[0;36m<module>\u001b[0;34m\u001b[0m\n\u001b[0;32m----> 1\u001b[0;31m \u001b[0;32mimport\u001b[0m \u001b[0mpandas\u001b[0m \u001b[0;32mas\u001b[0m \u001b[0mpd\u001b[0m\u001b[0;34m\u001b[0m\u001b[0m\n\u001b[0m\u001b[1;32m      2\u001b[0m \u001b[0;32mimport\u001b[0m \u001b[0mnumpy\u001b[0m \u001b[0;32mas\u001b[0m \u001b[0mnp\u001b[0m\u001b[0;34m\u001b[0m\u001b[0m\n\u001b[1;32m      3\u001b[0m \u001b[0;32mimport\u001b[0m \u001b[0mmatplotlib\u001b[0m\u001b[0;34m.\u001b[0m\u001b[0mpyplot\u001b[0m \u001b[0;32mas\u001b[0m \u001b[0mplt\u001b[0m\u001b[0;34m\u001b[0m\u001b[0m\n\u001b[1;32m      4\u001b[0m \u001b[0;32mimport\u001b[0m \u001b[0msklearn\u001b[0m\u001b[0;34m\u001b[0m\u001b[0m\n\u001b[1;32m      5\u001b[0m \u001b[0;32mimport\u001b[0m \u001b[0mstatistics\u001b[0m\u001b[0;34m\u001b[0m\u001b[0m\n",
      "\u001b[0;31mModuleNotFoundError\u001b[0m: No module named 'pandas'"
     ]
    }
   ],
   "source": [
    "import pandas as pd\n",
    "import numpy as np \n",
    "import matplotlib.pyplot as plt \n",
    "import sklearn\n",
    "import statistics\n",
    "from sklearn.linear_model import LinearRegression\n",
    "\n",
    "\n"
   ]
  },
  {
   "cell_type": "code",
   "execution_count": 1,
   "metadata": {},
   "outputs": [
    {
     "ename": "SyntaxError",
     "evalue": "invalid syntax (<ipython-input-1-e0414d2c4dd3>, line 57)",
     "output_type": "error",
     "traceback": [
      "\u001b[0;36m  File \u001b[0;32m\"<ipython-input-1-e0414d2c4dd3>\"\u001b[0;36m, line \u001b[0;32m57\u001b[0m\n\u001b[0;31m    print \"formula: y = {0}x + {1}\".format(m, b)\u001b[0m\n\u001b[0m                                  ^\u001b[0m\n\u001b[0;31mSyntaxError\u001b[0m\u001b[0;31m:\u001b[0m invalid syntax\n"
     ]
    }
   ],
   "source": [
    "# df = pd.read_csv(\"/Users/sstrano/Downloads/SrSAExercise2018_inputs_with_results.csv\")\n",
    "p_file = \"/Users/sstrano/Downloads/SrSAExercise2018_inputs_with_results_1.csv\"\n",
    "df = pd.read_csv(p_file, sep=',', error_bad_lines=False, index_col=False, dtype='unicode')\n",
    "d = pd.read_csv(p_file, sep=',', error_bad_lines=False, index_col=False, dtype='unicode')\n",
    "\n",
    "\n",
    "df['Primary Phone to Name']=df['Primary Phone to Name'].astype('category').cat.codes\n",
    "df['Primary Phone Is Valid']=df['Primary Phone Is Valid'].astype('category').cat.codes\n",
    "df['Primary Phone Line Type']=df['Primary Phone Line Type'].astype('category').cat.codes\n",
    "df['Primary Address Is Valid']=df['Primary Address Is Valid'].astype('category').cat.codes\n",
    "df['Primary Address to Name']=df['Primary Address to Name'].astype('category').cat.codes\n",
    "df['Email Is Valid']=df['Email Is Valid'].astype('category').cat.codes\n",
    "df['Email to Name']=df['Email to Name'].astype('category').cat.codes\n",
    "df['IP Is Proxy']=df['IP Is Proxy'].astype('category').cat.codes\n",
    "\n",
    "\n"
   ]
  },
  {
   "cell_type": "code",
   "execution_count": null,
   "metadata": {},
   "outputs": [],
   "source": [
    "# converting data types\n",
    "df.dtypes.eq(object)\n",
    "cols = df.columns[df.dtypes.eq(object)]\n",
    "df[cols] = df[cols].apply(pd.to_numeric, errors='coerce', axis=0)\n",
    "for c in cols:\n",
    "    df[c] = pd.to_numeric(df[c], errors='coerce')\n",
    "\n",
    "d = df[df.fraud_ind != 1]\n",
    "df = df[df.fraud_ind != 0]\n",
    "\n",
    "def Average(lst): \n",
    "    return sum(lst) / len(lst)\n",
    "\n",
    "def stddev(data, ddof=0):\n",
    "    \"\"\"Calculates the population standard deviation\n",
    "    by default; specify ddof=1 to compute the sample\n",
    "    standard deviation.\"\"\"\n",
    "    n = len(data)\n",
    "    if n < 2:\n",
    "        raise ValueError('variance requires at least two data points')\n",
    "    ss = _ss(data)\n",
    "    pvar = ss/(n-ddof)\n",
    "    return pvar**0.5\n",
    "\n",
    "np.std(df['Email First Seen Days'])\n",
    "np.mean(df['Email First Seen Days'])\n",
    "\n",
    "\n",
    "# defining feature matrix(X) and response vector(y) \n",
    "y = df.iloc[:,1] # fraudster yes or no\n",
    "X = df.iloc[:,7:] # other variables\n",
    "x = df.iloc[:,17]\n",
    "df.iloc[:,1]=pd.to_numeric(df.iloc[:,1])\n",
    "\n"
   ]
  },
  {
   "cell_type": "code",
   "execution_count": null,
   "metadata": {},
   "outputs": [],
   "source": [
    "filtered_data = df\n",
    "npMatrix = np.matrix(filtered_data)\n",
    "X, Y = npMatrix[:,14], npMatrix[:,17]\n",
    "mdl = LinearRegression().fit(filtered_data[['fraud_ind']],filtered_data['Confidence Score'])\n",
    "m = mdl.coef_[0]\n",
    "b = mdl.intercept_\n",
    "print \"formula: y = {0}x + {1}\".format(m, b)\n"
   ]
  }
 ],
 "metadata": {
  "kernelspec": {
   "display_name": "Python 3",
   "language": "python",
   "name": "python3"
  },
  "language_info": {
   "codemirror_mode": {
    "name": "ipython",
    "version": 3
   },
   "file_extension": ".py",
   "mimetype": "text/x-python",
   "name": "python",
   "nbconvert_exporter": "python",
   "pygments_lexer": "ipython3",
   "version": "3.7.0"
  }
 },
 "nbformat": 4,
 "nbformat_minor": 2
}
